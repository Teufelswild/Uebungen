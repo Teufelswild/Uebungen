{
 "cells": [
  {
   "cell_type": "code",
   "execution_count": 1,
   "metadata": {},
   "outputs": [
    {
     "name": "stdout",
     "output_type": "stream",
     "text": [
      "99 99\n",
      "998888 9988\n"
     ]
    },
    {
     "ename": "SystemExit",
     "evalue": "0",
     "output_type": "error",
     "traceback": [
      "An exception has occurred, use %tb to see the full traceback.\n",
      "\u001b[0;31mSystemExit\u001b[0m\u001b[0;31m:\u001b[0m 0\n"
     ]
    },
    {
     "name": "stderr",
     "output_type": "stream",
     "text": [
      "/opt/anaconda3/envs/py39_programmierung/lib/python3.9/site-packages/IPython/core/interactiveshell.py:3513: UserWarning: To exit: use 'exit', 'quit', or Ctrl-D.\n",
      "  warn(\"To exit: use 'exit', 'quit', or Ctrl-D.\", stacklevel=1)\n"
     ]
    }
   ],
   "source": [
    "from PyQt5.QtWidgets import *\n",
    "from PyQt5.uic import *\n",
    "from PyQt5 import uic\n",
    "from PyQt5.QtCore import *\n",
    "from PyQt5.QtGui import QDesktopServices\n",
    "from PyQt5.QtCore import QUrl\n",
    "import sys\n",
    "\n",
    "class UiWindow(QMainWindow):\n",
    "    def __init__(self):\n",
    "        super().__init__()\n",
    "        loadUi(\"showmap.ui\", self)\n",
    "        self.show()\n",
    "        self.show_on_map.clicked.connect(self.link)\n",
    "\n",
    "    def link(self):\n",
    "        breite=self.breiteLineEdit.text()\n",
    "        laenge=self.lNgeLineEdit.text()\n",
    "        url = f\"https://www.google.ch/maps/place/{breite},{laenge}\"\n",
    "        QDesktopServices.openUrl(QUrl(url))\n",
    "        print(breite,laenge)\n",
    "\n",
    "app = QApplication(sys.argv)\n",
    "window = UiWindow()\n",
    "sys.exit(app.exec_())\n"
   ]
  }
 ],
 "metadata": {
  "kernelspec": {
   "display_name": "py39_programmierung",
   "language": "python",
   "name": "python3"
  },
  "language_info": {
   "codemirror_mode": {
    "name": "ipython",
    "version": 3
   },
   "file_extension": ".py",
   "mimetype": "text/x-python",
   "name": "python",
   "nbconvert_exporter": "python",
   "pygments_lexer": "ipython3",
   "version": "3.9.16"
  },
  "orig_nbformat": 4
 },
 "nbformat": 4,
 "nbformat_minor": 2
}
